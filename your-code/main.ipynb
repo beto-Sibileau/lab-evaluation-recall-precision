{
 "cells": [
  {
   "cell_type": "markdown",
   "metadata": {},
   "source": [
    "# Evaluation: Precision & Recall\n",
    "\n",
    "Using the evaluation metrics we have learned, we are going to compare how well some different types of classifiers perform on different evaluation metrics.\n",
    "\n",
    "We are going to use a dataset of written numbers which we can import from sklearn. Run the code below to do so. "
   ]
  },
  {
   "cell_type": "code",
   "execution_count": 1,
   "metadata": {},
   "outputs": [],
   "source": [
    "# Libraries\n",
    "from sklearn.datasets import fetch_openml\n",
    "import matplotlib.pyplot as plt\n",
    "import numpy as np\n",
    "from matplotlib import cm\n",
    "import matplotlib.gridspec as gridspec\n",
    "from sklearn.linear_model import LogisticRegression\n",
    "from sklearn.metrics import confusion_matrix\n",
    "from sklearn.metrics import f1_score\n",
    "from sklearn.metrics import plot_roc_curve"
   ]
  },
  {
   "cell_type": "code",
   "execution_count": 2,
   "metadata": {},
   "outputs": [],
   "source": [
    "# Load data\n",
    "mnist = fetch_openml('mnist_784')\n",
    "X, y = mnist['data'], mnist['target']"
   ]
  },
  {
   "cell_type": "markdown",
   "metadata": {},
   "source": [
    "#### Now take a look at the shapes of the X and y matrices."
   ]
  },
  {
   "cell_type": "code",
   "execution_count": 3,
   "metadata": {},
   "outputs": [
    {
     "name": "stdout",
     "output_type": "stream",
     "text": [
      "Feature matrix shape: (70000, 784)\n",
      "Target vector shape: (70000,)\n"
     ]
    }
   ],
   "source": [
    "# your code here\n",
    "print(f\"Feature matrix shape: {X.shape}\")\n",
    "print(f\"Target vector shape: {y.shape}\")"
   ]
  },
  {
   "cell_type": "markdown",
   "metadata": {},
   "source": [
    "#### Let's pick one entry and see what number is written. Use indexing to pick the 35th digit."
   ]
  },
  {
   "cell_type": "code",
   "execution_count": 4,
   "metadata": {},
   "outputs": [],
   "source": [
    "# your code here\n",
    "idx = 35\n",
    "num35 = X[idx,:]"
   ]
  },
  {
   "cell_type": "markdown",
   "metadata": {},
   "source": [
    "####  Use the *reshape(28,28)* method and *plt.imshow()* function with the parameters *cmap = matplotlib.cm.binary* and *interpolation=\"nearest\"* to make a plot of the number. Be sure to import matplotlib."
   ]
  },
  {
   "cell_type": "code",
   "execution_count": 5,
   "metadata": {},
   "outputs": [
    {
     "data": {
      "text/plain": [
       "<matplotlib.image.AxesImage at 0x28538369088>"
      ]
     },
     "execution_count": 5,
     "metadata": {},
     "output_type": "execute_result"
    },
    {
     "data": {
      "image/png": "[encoded data removed]",
      "text/plain": [
       "<Figure size 576x288 with 1 Axes>"
      ]
     },
     "metadata": {
      "needs_background": "light"
     },
     "output_type": "display_data"
    }
   ],
   "source": [
    "# your code here\n",
    "mat35 = num35.reshape(28,28)\n",
    "plt.figure(figsize=(8,4))\n",
    "plt.imshow(mat35,cmap = cm.binary,interpolation='nearest')"
   ]
  },
  {
   "cell_type": "markdown",
   "metadata": {},
   "source": [
    "#### Use indexing to see if what the plot shows matches with the outcome of the 35th index."
   ]
  },
  {
   "cell_type": "code",
   "execution_count": 6,
   "metadata": {},
   "outputs": [
    {
     "name": "stdout",
     "output_type": "stream",
     "text": [
      "5\n"
     ]
    }
   ],
   "source": [
    "# your code here\n",
    "print(y[idx])"
   ]
  },
  {
   "cell_type": "markdown",
   "metadata": {},
   "source": [
    "#### Now lets break into a test train split to run a classification. Instead of using sklearn, use indexing to select the first 60000 entries for the training and the rest for testing."
   ]
  },
  {
   "cell_type": "code",
   "execution_count": 7,
   "metadata": {},
   "outputs": [],
   "source": [
    "# your code here\n",
    "X_train = X[0:60000]\n",
    "X_test  = X[60000:]\n",
    "y_train = y[0:60000]\n",
    "y_test  = y[60000:]"
   ]
  },
  {
   "cell_type": "markdown",
   "metadata": {},
   "source": [
    "#### We are going to make a two-class classifier, so lets restrict to just one number, for example 5s. Do this by defining a new y training and y testing sets for just the number 5."
   ]
  },
  {
   "cell_type": "code",
   "execution_count": 8,
   "metadata": {},
   "outputs": [],
   "source": [
    "# your code here\n",
    "# make a new array with one and zeros (5 or not 5)\n",
    "idx = y_train == '5'\n",
    "y_train_5 = idx.astype(int)\n",
    "idx = y_test == '5'\n",
    "y_test_5 = idx.astype(int)"
   ]
  },
  {
   "cell_type": "markdown",
   "metadata": {},
   "source": [
    "#### Lets train a logistic regression to predict if a number is a 5 or not. Remember to use the 'just 5s' target train array."
   ]
  },
  {
   "cell_type": "code",
   "execution_count": 9,
   "metadata": {
    "scrolled": false
   },
   "outputs": [
    {
     "name": "stderr",
     "output_type": "stream",
     "text": [
      "C:\\Users\\beto\\anaconda3\\lib\\site-packages\\sklearn\\linear_model\\_logistic.py:940: ConvergenceWarning: lbfgs failed to converge (status=1):\n",
      "STOP: TOTAL NO. of ITERATIONS REACHED LIMIT.\n",
      "\n",
      "Increase the number of iterations (max_iter) or scale the data as shown in:\n",
      "    https://scikit-learn.org/stable/modules/preprocessing.html\n",
      "Please also refer to the documentation for alternative solver options:\n",
      "    https://scikit-learn.org/stable/modules/linear_model.html#logistic-regression\n",
      "  extra_warning_msg=_LOGISTIC_SOLVER_CONVERGENCE_MSG)\n"
     ]
    }
   ],
   "source": [
    "# your code here\n",
    "# data is already scaled to be used\n",
    "clf = LogisticRegression(solver='lbfgs',multi_class='ovr')\n",
    "model = clf.fit(X_train,y_train_5)"
   ]
  },
  {
   "cell_type": "markdown",
   "metadata": {},
   "source": [
    "#### Does the classifier predict correctly the 35th digit we picked before?"
   ]
  },
  {
   "cell_type": "code",
   "execution_count": 10,
   "metadata": {},
   "outputs": [
    {
     "name": "stdout",
     "output_type": "stream",
     "text": [
      "The classifier predicted correctly the 35th digit.\n"
     ]
    }
   ],
   "source": [
    "# your code here\n",
    "if model.predict(X_train)[35]:\n",
    "    print('The classifier predicted correctly the 35th digit.')\n",
    "else:\n",
    "    print(\"The classifier didn't predict correctly the 35th digit.\")"
   ]
  },
  {
   "cell_type": "markdown",
   "metadata": {},
   "source": [
    "#### The 36000th value is a 9. Check if it was correctly predicted."
   ]
  },
  {
   "cell_type": "code",
   "execution_count": 11,
   "metadata": {},
   "outputs": [
    {
     "name": "stdout",
     "output_type": "stream",
     "text": [
      "The classifier predicted correctly the 36000th digit.\n"
     ]
    }
   ],
   "source": [
    "# your code here\n",
    "if model.predict(X_train)[36000]:\n",
    "    print(\"The classifier didn't predict correctly the 36000th digit.\")\n",
    "else:\n",
    "    print(\"The classifier predicted correctly the 36000th digit.\")"
   ]
  },
  {
   "cell_type": "markdown",
   "metadata": {},
   "source": [
    "#### To make some comparisons, we are going to make a very dumb classifier, that never predicts 5s. Build the classifier with the code below."
   ]
  },
  {
   "cell_type": "code",
   "execution_count": 12,
   "metadata": {},
   "outputs": [],
   "source": [
    "# Libraries\n",
    "from sklearn.base import BaseEstimator"
   ]
  },
  {
   "cell_type": "code",
   "execution_count": 13,
   "metadata": {},
   "outputs": [],
   "source": [
    "# Dumb classifier\n",
    "class Never5Classifier(BaseEstimator):\n",
    "    def fit(self, X, y=None):\n",
    "        pass\n",
    "    def predict(self, X):\n",
    "        return np.zeros((len(X), 1))[:, 0]\n",
    "\n",
    "never_5_clf = Never5Classifier()"
   ]
  },
  {
   "cell_type": "markdown",
   "metadata": {},
   "source": [
    "#### Now lets fit and predict on the testing set using our dumb classifier."
   ]
  },
  {
   "cell_type": "code",
   "execution_count": 14,
   "metadata": {},
   "outputs": [],
   "source": [
    "# your code here\n",
    "never_5_clf.fit(X_train,y_train_5)\n",
    "y_pred_dummy = never_5_clf.predict(X_test)"
   ]
  },
  {
   "cell_type": "markdown",
   "metadata": {},
   "source": [
    "#### Let's compare this to the Logistic Regression. Examine the confusion matrix, precision, recall, and f1_scores for each. What is the probability cutoff you are using to decide the classes?"
   ]
  },
  {
   "cell_type": "markdown",
   "metadata": {},
   "source": [
    "Confusion matrix coefficients: $C_{00}$: TN, $C_{01}$: FP, $C_{10}$: FN and $C_{11}$: TP."
   ]
  },
  {
   "cell_type": "code",
   "execution_count": 15,
   "metadata": {},
   "outputs": [
    {
     "name": "stdout",
     "output_type": "stream",
     "text": [
      "Confusion matrix logistic regression model:\n",
      "[[9034   74]\n",
      " [ 147  745]]\n",
      "Confusion matrix dummy model:\n",
      "[[9108    0]\n",
      " [ 892    0]]\n",
      "Precision logistic regression model: 90.96 %\n",
      "FPR logistic regression model: 0.81 %\n",
      "FPR dummy model: 0.0 %\n",
      "Recall logistic regression model: 83.52 %\n",
      "Recall dummy model: 0.0 %\n",
      "F1_score logistic regression model: 87.08 %\n",
      "F1_score dummy model: 0.0 %\n",
      "The probability used for cutoff is 50 % (default) as the example below:\n",
      "[[ 64.52  35.48]\n",
      " [ 99.99   0.01]\n",
      " [100.     0.  ]\n",
      " [ 87.47  12.53]\n",
      " [100.     0.  ]\n",
      " [ 99.88   0.12]\n",
      " [ 97.93   2.07]\n",
      " [ 99.96   0.04]\n",
      " [ 98.75   1.25]\n",
      " [ 99.16   0.84]\n",
      " [ 99.59   0.41]\n",
      " [100.     0.  ]\n",
      " [ 93.52   6.48]\n",
      " [ 99.99   0.01]\n",
      " [ 47.34  52.66]] and [0 0 0 0 0 0 0 0 0 0 0 0 0 0 1]\n"
     ]
    }
   ],
   "source": [
    "# your code here\n",
    "y_pred_5 = model.predict(X_test)\n",
    "log_reg_c_mat = confusion_matrix(y_test_5, y_pred_5)\n",
    "prd_dum_c_mat = confusion_matrix(y_test_5, y_pred_dummy)\n",
    "print(f\"Confusion matrix logistic regression model:\\n{log_reg_c_mat}\")\n",
    "print(f\"Confusion matrix dummy model:\\n{prd_dum_c_mat}\")\n",
    "TN = log_reg_c_mat[0,0]\n",
    "FP = log_reg_c_mat[0,1]\n",
    "FN = log_reg_c_mat[1,0]\n",
    "TP = log_reg_c_mat[1,1]\n",
    "log_reg_prec = TP/(TP+FP)\n",
    "log_reg_fpr = FP/(TN+FP)\n",
    "log_reg_rec  = TP/(TP+FN)\n",
    "TNd = prd_dum_c_mat[0,0]\n",
    "FPd = prd_dum_c_mat[0,1]\n",
    "FNd = prd_dum_c_mat[1,0]\n",
    "TPd = prd_dum_c_mat[1,1]\n",
    "prd_dum_fpr = FPd/(TNd+FPd)\n",
    "prd_dum_rec  = TPd/(TPd+FNd)\n",
    "f1_log_reg = f1_score(y_test_5, y_pred_5)\n",
    "f1_prd_dum = f1_score(y_test_5, y_pred_dummy)\n",
    "print(f\"Precision logistic regression model: {round(log_reg_prec*100,2)} %\")\n",
    "print(f\"FPR logistic regression model: {round(log_reg_fpr*100,2)} %\")\n",
    "print(f\"FPR dummy model: {round(prd_dum_fpr*100,2)} %\")\n",
    "print(f\"Recall logistic regression model: {round(log_reg_rec*100,2)} %\")\n",
    "print(f\"Recall dummy model: {round(prd_dum_rec*100,2)} %\")\n",
    "print(f\"F1_score logistic regression model: {round(f1_log_reg*100,2)} %\")\n",
    "print(f\"F1_score dummy model: {round(f1_prd_dum*100,2)} %\")\n",
    "print(f\"The probability used for cutoff is 50 % (default) as the example below:\")\n",
    "y_pred_5_prob = model.predict_proba(X_test)\n",
    "np.set_printoptions(suppress=True)\n",
    "print(f\"{(y_pred_5_prob[84:99]*100).round(2)} and {y_pred_5[84:99]}\")"
   ]
  },
  {
   "cell_type": "markdown",
   "metadata": {},
   "source": [
    "#### What are the differences you see? Without knowing what each model is, what can these metrics tell you about how well each works?"
   ]
  },
  {
   "cell_type": "markdown",
   "metadata": {},
   "source": [
    "Where are looking at models that maximizes $F_1$ scores, thus even models with 100 % precision could be useless. There is a compromise between precision and recall, and this is expressed by the $F_1$ scores."
   ]
  },
  {
   "cell_type": "markdown",
   "metadata": {},
   "source": [
    "#### Now let's examine the roc_curve for each. Use the roc_curve method from sklearn.metrics to help plot the curve for each."
   ]
  },
  {
   "cell_type": "code",
   "execution_count": 16,
   "metadata": {},
   "outputs": [
    {
     "data": {
      "text/plain": [
       "<matplotlib.legend.Legend at 0x2853830a488>"
      ]
     },
     "execution_count": 16,
     "metadata": {},
     "output_type": "execute_result"
    },
    {
     "data": {
      "image/png": "[encoded data removed]",
      "text/plain": [
       "<Figure size 576x288 with 1 Axes>"
      ]
     },
     "metadata": {
      "needs_background": "light"
     },
     "output_type": "display_data"
    }
   ],
   "source": [
    "# your code here\n",
    "\n",
    "fig = plt.figure(figsize=[8,4],constrained_layout=True)\n",
    "fig.suptitle('Roc_curve Log. Reg model', size=16, weight='bold',y=1.05)\n",
    "spec = gridspec.GridSpec(ncols=1, nrows=1, figure=fig)\n",
    "ax1 = fig.add_subplot(spec[0, 0])\n",
    "\n",
    "plot_roc_curve(clf, X_test, y_test_5,ax=ax1)\n",
    "\n",
    "plt.sca(ax1)\n",
    "plt.xticks(fontsize=12)\n",
    "plt.yticks(fontsize=12)\n",
    "label_prop = {'size':14,'family':'fantasy','style':'oblique'}\n",
    "plt.xlabel('False Positive Rate',fontdict=label_prop)\n",
    "plt.ylabel('True Positive Rate',fontdict=label_prop)\n",
    "ax1.legend(fontsize=12)\n"
   ]
  },
  {
   "cell_type": "code",
   "execution_count": 17,
   "metadata": {},
   "outputs": [],
   "source": [
    "# can't use the dummie function for roc_curve plotting, could try to assign a np zeros array\n",
    "\n",
    "# plot_roc_curve(Never5Classifier(), X_test, y_test_5,ax=ax2,color='tomato')\n",
    "\n",
    "# plt.sca(ax1)\n",
    "# plt.xticks(fontsize=12)\n",
    "# plt.yticks(fontsize=12)\n",
    "# label_prop = {'size':14,'family':'fantasy','style':'oblique'}\n",
    "# plt.xlabel('False Positive Rate',fontdict=label_prop)\n",
    "# plt.ylabel('True Positive Rate',fontdict=label_prop)\n",
    "# ax1.legend(fontsize=12)"
   ]
  },
  {
   "cell_type": "markdown",
   "metadata": {},
   "source": [
    "#### Now find the roc_auc_score for each. "
   ]
  },
  {
   "cell_type": "markdown",
   "metadata": {},
   "source": [
    "$AUC = 0.98$ for the logistic regression model as shown above."
   ]
  },
  {
   "cell_type": "markdown",
   "metadata": {},
   "source": [
    "#### What does this metric tell you? Which classifier works better with this metric in mind?"
   ]
  },
  {
   "cell_type": "markdown",
   "metadata": {},
   "source": [
    "The roc_curve and AUC indicators confirms the logistic regression has outstanding performance in this example and the dummie model is useless."
   ]
  }
 ],
 "metadata": {
  "kernelspec": {
   "display_name": "Python 3",
   "language": "python",
   "name": "python3"
  },
  "language_info": {
   "codemirror_mode": {
    "name": "ipython",
    "version": 3
   },
   "file_extension": ".py",
   "mimetype": "text/x-python",
   "name": "python",
   "nbconvert_exporter": "python",
   "pygments_lexer": "ipython3",
   "version": "3.7.6"
  }
 },
 "nbformat": 4,
 "nbformat_minor": 2
}
